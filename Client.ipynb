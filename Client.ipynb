{
 "cells": [
  {
   "cell_type": "code",
   "execution_count": 1,
   "metadata": {},
   "outputs": [],
   "source": [
    "import socket\n",
    "import cv2\n",
    "import pickle\n",
    "import struct\n",
    "\n",
    "client = socket.socket(socket.AF_INET,socket.SOCK_STREAM)\n",
    "client.connect((\"192.168.43.217\", 9999))\n",
    "\n",
    "data = b\"\"\n",
    "payload_size = struct.calcsize(\"Q\")\n",
    "\n",
    "while True:\n",
    "    while len(data) < payload_size:\n",
    "        packet = client.recv(4096)\n",
    "        \n",
    "        if not packet: \n",
    "            break\n",
    "        data+=packet\n",
    "    packed_msg = data[:payload_size]\n",
    "    data = data[payload_size:]\n",
    "    msg_size = struct.unpack(\"Q\",packed_msg)[0]\n",
    "    \n",
    "    while len(data) < msg_size:\n",
    "        data += client.recv(4096)\n",
    "    frame = data[:msg_size]\n",
    "    data  = data[msg_size:]\n",
    "    vid = pickle.loads(frame)\n",
    "    cv2.imshow(\"RECIEVEING\",vid)\n",
    "    if cv2.waitKey(1) == 27:\n",
    "        break\n",
    "client.close()"
   ]
  },
  {
   "cell_type": "code",
   "execution_count": null,
   "metadata": {},
   "outputs": [],
   "source": []
  }
 ],
 "metadata": {
  "kernelspec": {
   "display_name": "Python 3",
   "language": "python",
   "name": "python3"
  },
  "language_info": {
   "codemirror_mode": {
    "name": "ipython",
    "version": 3
   },
   "file_extension": ".py",
   "mimetype": "text/x-python",
   "name": "python",
   "nbconvert_exporter": "python",
   "pygments_lexer": "ipython3",
   "version": "3.7.6"
  }
 },
 "nbformat": 4,
 "nbformat_minor": 4
}
